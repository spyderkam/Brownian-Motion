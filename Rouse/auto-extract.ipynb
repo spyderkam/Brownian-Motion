{
 "cells": [
  {
   "cell_type": "markdown",
   "metadata": {},
   "source": [
    "This script extracts $\\tau$, $R_{\\mathrm{g}}$, and $R_{\\mathrm{ee}}$ for mulitple chains each with a unique number of beads per chain."
   ]
  },
  {
   "cell_type": "markdown",
   "metadata": {},
   "source": [
    "**Parameters:**\n",
    "* $N = 1,\\!500,\\!001$\n",
    "* $\\Delta t = 0.0001$\n",
    "* $\\left\\vert k_{\\mathrm{ev}} \\right| = 200$"
   ]
  },
  {
   "cell_type": "code",
   "execution_count": 2,
   "metadata": {},
   "outputs": [
    {
     "name": "stdout",
     "output_type": "stream",
     "text": [
      "1500001\n"
     ]
    }
   ],
   "source": [
    "import brownian_bead as bb; print(bb.N)\n",
    "import os\n",
    "import numpy as np\n",
    "from scipy.optimize import curve_fit\n",
    "\n",
    "mm = (5, 10, 15, 20, 30, 40, 50, 60, 75, 90, 100)\n",
    "𝑘_ev = 200\n",
    "Δ𝑡 = .0001     \n",
    "\n",
    "𝑡 = []\n",
    "tt = 0\n",
    "for i in range(bb.N):\n",
    "    t.append(tt)\n",
    "    tt += Δt\n",
    "del tt"
   ]
  },
  {
   "cell_type": "markdown",
   "metadata": {},
   "source": [
    "## Extracing $\\tau$"
   ]
  },
  {
   "cell_type": "code",
   "execution_count": null,
   "metadata": {},
   "outputs": [],
   "source": [
    "percentage = 0.01; print(f\"\\033[4mAnalyzing the first {int(bb.𝑁*percentage)} time steps:\\033[0m\\n\")\n",
    "\n",
    "τg = []\n",
    "τee = []\n",
    "\n",
    "def exp_decay(t, τ, A, B): \n",
    "    return A*np.exp(-t/τ) + B\n",
    "\n",
    "for m in mm:\n",
    "    print(f\"• Working on nbeads = {m}...\")\n",
    "    \n",
    "    file = os.path.join('simulated_data', 'k_ev=200', f'ave_rg_ree_n{m}-k_ev{k_ev}.dat')\n",
    "    Rg_all = np.loadtxt(file, skiprows=0)[:, 0]\n",
    "    Ree_all = np.loadtxt(file, skiprows=0)[:, 1]\n",
    "\n",
    "    Rg_all_i = []\n",
    "    Ree_all_i = []\n",
    "    for i in range(bb.N):\n",
    "        Rg_all_i.append([])\n",
    "        Ree_all_i.append([])\n",
    "\n",
    "    for i in range(int(len(Rg_all)/bb.N)):   \n",
    "        for j in range(bb.N):                 \n",
    "            Rg_all_i[j].append(Rg_all[j + i*bb.N])\n",
    "            Ree_all_i[j].append(Ree_all[j + i*bb.N])        \n",
    "\n",
    "    # 1 trial\n",
    "    Rg_ave, Ree_ave = Rg_all.tolist(), Ree_all.tolist()\n",
    "\n",
    "    # multiple trials\n",
    "    # ... left out for clutterness, see 'importing and averaging' for this part of code ...\n",
    "\n",
    "\n",
    "    p0 = (0.1, 1, 0)\n",
    "    popt, pcov = curve_fit(exp_decay, t[0:int(bb.N*percentage)], Rg_ave[0:int(bb.N*percentage)], p0)     \n",
    "    τg.append(popt[0])\n",
    "    popt, pcov = curve_fit(exp_decay, t[0:int(bb.N*percentage)], Ree_ave[0:int(bb.N*percentage)], p0)     \n",
    "    τee.append(popt[0])\n",
    "    del popt, pcov\n",
    "    \n",
    "print(f\"\\nτg = {τg}\\n\\nτee = {τee}\")"
   ]
  },
  {
   "cell_type": "markdown",
   "metadata": {},
   "source": [
    "## Extracting $\\langle R_{\\mathrm{g}}\\rangle$ and $\\langle R_{\\mathrm{ee}}\\rangle$ after relaxation"
   ]
  },
  {
   "cell_type": "code",
   "execution_count": 4,
   "metadata": {},
   "outputs": [
    {
     "name": "stdout",
     "output_type": "stream",
     "text": [
      "\u001b[4mAveraging the final 85% of data:\u001b[0m\n",
      "\n",
      "• Working on nbeads = 5...\n",
      "• Working on nbeads = 10...\n",
      "• Working on nbeads = 15...\n",
      "• Working on nbeads = 20...\n",
      "• Working on nbeads = 30...\n",
      "• Working on nbeads = 40...\n",
      "• Working on nbeads = 50...\n",
      "• Working on nbeads = 60...\n",
      "• Working on nbeads = 75...\n",
      "• Working on nbeads = 90...\n",
      "• Working on nbeads = 100...\n",
      "\n",
      "𝑅g_ave_mean = (0.704937546162764, 1.223411204506494, 1.6794655516809742, 2.1021596463626526, 2.8016112456856965, 3.7370744642824856, 4.457658638845154, 5.122879133213113, 5.664617346743507, 5.668000519140377, 5.063526645493553)\n",
      "\n",
      "𝑅ee_ave_mean = (1.7847189883694434, 3.163825457622334, 4.380943821435838, 5.12394607797464, 7.611545891774332, 10.056898606584014, 9.969462637935745, 14.469142552428343, 17.17364333204935, 17.597848403534787, 12.86052610349633)\n"
     ]
    }
   ],
   "source": [
    "x = 85; print(f\"\\033[4mAveraging the final {x}% of data:\\033[0m\\n\")\n",
    "\n",
    "Rg_ave_mean = ()\n",
    "Ree_ave_mean = ()\n",
    "\n",
    "for m in mm:\n",
    "    print(f\"• Working on nbeads = {m}...\")\n",
    "    \n",
    "    file = os.path.join('simulated_data', 'k_ev=200', f'ave_rg_ree_n{m}-k_ev{k_ev}.dat')\n",
    "    Rg_all = np.loadtxt(file, skiprows=0)[:, 0]\n",
    "    Ree_all = np.loadtxt(file, skiprows=0)[:, 1]\n",
    "\n",
    "    Rg_all_i = []\n",
    "    Ree_all_i = []\n",
    "    for i in range(bb.N):\n",
    "        Rg_all_i.append([])\n",
    "        Ree_all_i.append([])\n",
    "\n",
    "    for i in range(int(len(Rg_all)/bb.N)):   \n",
    "        for j in range(bb.N):                 \n",
    "            Rg_all_i[j].append(Rg_all[j + i*bb.N])\n",
    "            Ree_all_i[j].append(Ree_all[j + i*bb.N])        \n",
    "\n",
    "    # 1 trial\n",
    "    Rg_ave, Ree_ave = Rg_all.tolist(), Ree_all.tolist()\n",
    "\n",
    "    # multiple trials\n",
    "    # ... left out for clutterness, see 'importing and averaging' for this part of code ...\n",
    "\n",
    "    del Rg_ave[0:int((100-x)*len(Rg_ave)/100)]\n",
    "    del Ree_ave[0:int((100-x)*len(Ree_ave)/100)]\n",
    "\n",
    "    Rg_ave_mean = Rg_ave_mean + (np.mean(Rg_ave),)\n",
    "    Ree_ave_mean = Ree_ave_mean + (np.mean(Ree_ave),)\n",
    "    \n",
    "print(f'\\n𝑅g_ave_mean = {Rg_ave_mean}\\n\\n𝑅ee_ave_mean = {Ree_ave_mean}')"
   ]
  },
  {
   "cell_type": "markdown",
   "metadata": {},
   "source": [
    "```python\n",
    "# 95% cut-off (latter 5% of data) - 95/5\n",
    "𝑅g_ave_mean = list((0.7447936125062369, 1.1787795682142561, 1.6245252151533007, 1.8696042470983536,\n",
    "                  2.3253201905192866, 3.6361765574561526, 4.771919244380429, 5.573777387168047,\n",
    "                  5.773527758702769, 6.259329216237292, 5.374963557240886))\n",
    "\n",
    "𝑅ee_ave_mean = [1.9749699364399365, 3.069312178243229, 4.5956334317000955, 3.4976855242643548,\n",
    "                   6.238192149396051, 10.003500976948317, 10.770083901127558, 14.99549596540571, \n",
    "                   14.925450813547208, 18.063555282599534, 10.408595888939033]\n",
    "\n",
    "# 5% cut-off (latter 95% of data) - 5/95\n",
    "𝑅g_ave_mean = list((0.7067657327972583, 1.2313016309567293, 1.696369600446024, 2.120139469247774,\n",
    "                2.8405632818756077, 3.651438648391554, 4.3336979790714, 4.9912928748369065, \n",
    "                5.535198955806183, 5.542491555391321, 5.009425947813662))\n",
    "\n",
    "𝑅ee_ave_mean = list((1.7967981462407936, 3.2202159376619424, 4.4804280226714805, 5.287542350754641,\n",
    "                 7.769168732262673, 10.026331822502671, 9.844517472306284, 14.196378122467067, \n",
    "                 16.927228067258678, 17.4910212275068, 13.217766933145219))\n",
    "\n",
    "# 25/75\n",
    "𝑅g_ave_mean = [0.7048306817881118, 1.2314488996904747, 1.646101018885718, 2.0629321161485388, \n",
    "                2.796132059196335, 3.872517043216301, 4.570777966233319, 5.262208299534975, \n",
    "                5.748084367599045, 5.778145160899352, 5.060955623753751]\n",
    "\n",
    "𝑅ee_ave_mean = [1.7824627292183528, 3.2187446345146937, 4.215933216587189, 4.843189256016224, \n",
    "                 7.51596072501528, 10.32820793793202, 9.974167809515514, 15.036913655605876, \n",
    "                 17.239990117217943, 17.863856388796087, 12.434284025087116]\n",
    "\n",
    "# 20/80\n",
    "𝑅g_ave_mean = [0.7040528787081665, 1.2230656456645534, 1.661251935035583, 2.0849172458465994,\n",
    "                2.8013880833742304, 3.809283227403449, 4.516375564335865, 5.206744748906045, \n",
    "                5.705007140535564, 5.729694089848898, 5.068169159023161]\n",
    "\n",
    "𝑅ee_ave_mean = [1.7794719660770566, 3.179022912411963, 4.283596463395574, 5.005732155755328, \n",
    "                 7.566483358676683, 10.22950610494727, 9.958855271965742, 14.731470170955882,\n",
    "                 17.271074844368727, 17.75429325667767, 12.71968654870579]\n",
    "\n",
    "# 15/85\n",
    "𝑅g_ave_mean = (0.704937546162764, 1.223411204506494, 1.6794655516809742, 2.1021596463626526, \n",
    "                2.8016112456856965, 3.7370744642824856, 4.457658638845154, 5.122879133213113, \n",
    "                5.664617346743507, 5.668000519140377, 5.063526645493553)\n",
    "\n",
    "𝑅ee_ave_mean = (1.7847189883694434, 3.163825457622334, 4.380943821435838, 5.12394607797464, \n",
    "                 7.611545891774332, 10.056898606584014, 9.969462637935745, 14.469142552428343, \n",
    "                 17.17364333204935, 17.597848403534787, 12.86052610349633)\n",
    "\n",
    "# 10/90\n",
    "𝑅g_ave_mean = [0.7064976814434527, 1.22801217520203, 1.6851397301714577, 2.115096360288673, \n",
    "                2.8298436979174264, 3.689284203501806, 4.392470283990248, 5.057815804043928, \n",
    "                5.601845322860536, 5.604789693636989, 5.0452150554091135]\n",
    "\n",
    "𝑅ee_ave_mean = [1.7936983174620265, 3.1925635528853644, 4.4027364340808, 5.228190891116775,\n",
    "                 7.7404521235647, 10.006194273393783, 9.879796676008363, 14.289422503725016, \n",
    "                 17.0358812951526, 17.5635203293155, 13.088067762713125]\n",
    "```"
   ]
  },
  {
   "cell_type": "markdown",
   "metadata": {},
   "source": [
    "I never recorded the above 10/90 data because I am happy with the <u>15/85</u> results."
   ]
  }
 ],
 "metadata": {
  "kernelspec": {
   "display_name": "Python 3 (ipykernel)",
   "language": "python",
   "name": "python3"
  },
  "language_info": {
   "codemirror_mode": {
    "name": "ipython",
    "version": 3
   },
   "file_extension": ".py",
   "mimetype": "text/x-python",
   "name": "python",
   "nbconvert_exporter": "python",
   "pygments_lexer": "ipython3",
   "version": "3.9.12"
  }
 },
 "nbformat": 4,
 "nbformat_minor": 4
}
